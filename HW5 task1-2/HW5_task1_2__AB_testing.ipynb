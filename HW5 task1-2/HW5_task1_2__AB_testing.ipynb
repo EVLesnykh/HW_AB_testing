{
  "nbformat": 4,
  "nbformat_minor": 0,
  "metadata": {
    "colab": {
      "provenance": []
    },
    "kernelspec": {
      "name": "python3",
      "display_name": "Python 3"
    },
    "language_info": {
      "name": "python"
    }
  },
  "cells": [
    {
      "cell_type": "code",
      "execution_count": 8,
      "metadata": {
        "id": "xfgnGZnc6Gl-"
      },
      "outputs": [],
      "source": [
        "import numpy as np"
      ]
    },
    {
      "cell_type": "code",
      "source": [
        "import scipy.stats as stats"
      ],
      "metadata": {
        "id": "I599uoyd8YUc"
      },
      "execution_count": 9,
      "outputs": []
    },
    {
      "cell_type": "markdown",
      "source": [
        "**Задача №1.** Вы провели эксперимент c упрощением формы заказа в магазине Утконос и получили результаты по метрике конверсий в покупку. Выберите метод оценки и оцените есть ли стат.значимые различия между конверсиями в двух группах при alpha = 5%. Дайте краткие рекомендации команде. <br>\n",
        "Результаты:\n",
        "1. Число юзеров в группах , которые заходили на сайт в период эксперимента: n1 = 15550 и n2 = 15550.\n",
        "2. Число юзеров в группах , которые совершили хотя бы одну покупку за период эксперимента: m1 = 164 и m2 = 228.\n",
        "3. Конверсии : conv1 = 1.05% conv2 = 1.47%."
      ],
      "metadata": {
        "id": "zJv4FpVZAMSh"
      }
    },
    {
      "cell_type": "markdown",
      "source": [
        "**Решение:** <br>\n",
        "Для оценки статистической значимости различий между конверсиями в двух группах будем использовать Z-критерий для разности долей:\\\n",
        "$Z = \\cfrac{p_1 - p_2}{\\sqrt{p (1-p) \\left(\\cfrac{1}{n_1} + \\cfrac{1}{n_2}\\right)}}$, где\n",
        "$p = \\cfrac{m_1 + m_2}{n_1 + n_2}$,\n"
      ],
      "metadata": {
        "id": "AACdS6i3PlwK"
      }
    },
    {
      "cell_type": "code",
      "source": [
        "n1=15550\n",
        "n2=15550\n",
        "m1=164\n",
        "m2=228\n",
        "alpha = 0.05"
      ],
      "metadata": {
        "id": "BmaPlujWRzjV"
      },
      "execution_count": 10,
      "outputs": []
    },
    {
      "cell_type": "code",
      "source": [
        "p1=m1/n1\n",
        "print(round(p1,4))"
      ],
      "metadata": {
        "colab": {
          "base_uri": "https://localhost:8080/"
        },
        "id": "XUq9OorwT585",
        "outputId": "11e4bcf0-a699-474d-9c07-73c54eb9f17f"
      },
      "execution_count": 14,
      "outputs": [
        {
          "output_type": "stream",
          "name": "stdout",
          "text": [
            "0.0105\n"
          ]
        }
      ]
    },
    {
      "cell_type": "code",
      "source": [
        "p2=m2/n2\n",
        "print(round(p2,4))"
      ],
      "metadata": {
        "colab": {
          "base_uri": "https://localhost:8080/"
        },
        "id": "vymojhECUOVz",
        "outputId": "f108d956-b1e3-45ce-d893-61a2599a46de"
      },
      "execution_count": 15,
      "outputs": [
        {
          "output_type": "stream",
          "name": "stdout",
          "text": [
            "0.0147\n"
          ]
        }
      ]
    },
    {
      "cell_type": "code",
      "source": [
        "p=(m1+m2)/(n1+n2)\n",
        "print(round(p,4))"
      ],
      "metadata": {
        "colab": {
          "base_uri": "https://localhost:8080/"
        },
        "id": "rWiR-wl0UdHf",
        "outputId": "8c5422e7-8c4d-431f-bf58-c668e101b13a"
      },
      "execution_count": 17,
      "outputs": [
        {
          "output_type": "stream",
          "name": "stdout",
          "text": [
            "0.0126\n"
          ]
        }
      ]
    },
    {
      "cell_type": "code",
      "source": [
        "Z = (p1-p2)/np.sqrt(p*(1-p)*(1/n1+1/n2))\n",
        "print(round(Z,4))\n"
      ],
      "metadata": {
        "colab": {
          "base_uri": "https://localhost:8080/"
        },
        "id": "JlGO-MvYUpfo",
        "outputId": "fa7c7781-8789-4c1b-819d-a02640b3dffa"
      },
      "execution_count": 20,
      "outputs": [
        {
          "output_type": "stream",
          "name": "stdout",
          "text": [
            "-3.2531\n"
          ]
        }
      ]
    },
    {
      "cell_type": "markdown",
      "source": [
        "**Ответ:** <br>\n",
        "Для уровня значимости alpha = 5% критическое значение Z-критерия равно 1.96. Так как полученное расчетное значение Z-критерия меньше критического значения -3.2531 < 1.96, то мы отвергаем нулевую гипотезу о равенстве конверсий в группах. И делаем вывод, что эксперимент с упрощением формы заказа в магазине\n",
        "Утконос дал статистически значимый эффект на уровень конверсии в покупку. Рекомендация команде: использовать новую форму заказа."
      ],
      "metadata": {
        "id": "tSCzDzWcAaIz"
      }
    },
    {
      "cell_type": "markdown",
      "source": [
        "**Задача №2.** Сравниваем метрику конверсия в покупку. Размер выборки - 10000 элементов в каждой группе. Какой статистический критерий тут лучше всего подойдёт и почему?"
      ],
      "metadata": {
        "id": "O4wuKOkDAc5Q"
      }
    },
    {
      "cell_type": "markdown",
      "source": [
        "**Ответ:** <br>\n",
        "Лучше всего для сравнения метрики конверсия в покупку подойдет Z-критерий разности долей. Так как в отличие от t-критерия (размер выборки до 30 элементов), Z-критерий долей может использоваться как для больших (более 30 элементов), так и для малых выборок, поскольку он основан на распределении Бернулли и не требует нормального распределения данных."
      ],
      "metadata": {
        "id": "NtL6jqt5AiWK"
      }
    }
  ]
}