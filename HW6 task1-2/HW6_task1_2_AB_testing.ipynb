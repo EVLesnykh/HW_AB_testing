{
  "nbformat": 4,
  "nbformat_minor": 0,
  "metadata": {
    "colab": {
      "provenance": []
    },
    "kernelspec": {
      "name": "python3",
      "display_name": "Python 3"
    },
    "language_info": {
      "name": "python"
    }
  },
  "cells": [
    {
      "cell_type": "code",
      "execution_count": 37,
      "metadata": {
        "id": "d2ta2tVRGKhe"
      },
      "outputs": [],
      "source": [
        "import math\n",
        "from statsmodels.stats.proportion import proportion_effectsize\n",
        "from statsmodels.stats.power import tt_ind_solve_power, zt_ind_solve_power\n",
        "from statsmodels.stats.meta_analysis import effectsize_smd"
      ]
    },
    {
      "cell_type": "markdown",
      "source": [
        "**Задача №1.**\n",
        "Продакт на главной mail.ru решил протестировать в рекомендательной ленте контента вместо карточек со статьями видеоплеер с короткими видео. Нынешний таймспент на юзера в день в среднем равен 25 минут, а стандартная ошибка (SD) равна 156. Мы предполагаем, что в новой версии таймспент на юзера в день изменится на 10%. Средний трафик 20000 человек в день. Посчитайте сколько дней необходимо держать эксперимент при alpha = 5% и beta = 20% ."
      ],
      "metadata": {
        "id": "xeylTSLVKJED"
      }
    },
    {
      "cell_type": "code",
      "source": [
        "n = 20000 # среднее количество юзеров в день\n",
        "t_now = 25 # нынешний таймспент на юзера\n",
        "t_new = 25*1.1 # новый таймспент на юзера\n",
        "sd = 156 # стандартное отклонение\n",
        "alpha = 0.05 # уровень значимости\n",
        "beta = 0.2 # вероятности ошибки"
      ],
      "metadata": {
        "id": "fJtkJpyyM4G-"
      },
      "execution_count": 38,
      "outputs": []
    },
    {
      "cell_type": "code",
      "source": [
        "effect_size = effectsize_smd(t_now, sd, n, t_new, sd, n)[0] # размер эффекта\n",
        "print(round(effect_size, 3))"
      ],
      "metadata": {
        "colab": {
          "base_uri": "https://localhost:8080/"
        },
        "id": "fraKFfAeR9es",
        "outputId": "88685c11-1135-464d-ee8d-4823a7e9354c"
      },
      "execution_count": 39,
      "outputs": [
        {
          "output_type": "stream",
          "name": "stdout",
          "text": [
            "-0.016\n"
          ]
        }
      ]
    },
    {
      "cell_type": "code",
      "source": [
        "day = tt_ind_solve_power(effect_size=effect_size, alpha=alpha, power=(1 - beta)) * 2 / n\n",
        "print(math.ceil(day))"
      ],
      "metadata": {
        "colab": {
          "base_uri": "https://localhost:8080/"
        },
        "id": "IaKvFKf9Sz1Y",
        "outputId": "a7b8fa83-c8a2-4ca5-915a-afadb4dd2b23"
      },
      "execution_count": 41,
      "outputs": [
        {
          "output_type": "stream",
          "name": "stdout",
          "text": [
            "7\n"
          ]
        }
      ]
    },
    {
      "cell_type": "markdown",
      "source": [
        "**Ответ:** Эксперимент необходимо держать 7 дней при alpha = 5% и beta = 20% ."
      ],
      "metadata": {
        "id": "2mT18BDtVJmd"
      }
    },
    {
      "cell_type": "markdown",
      "source": [
        "**Задача №2.**\n",
        "Наша продуктовая команда в ecommerce магазине планирует запустить тест, направленный на ускорение загрузки сайта. Одна из основных метрик bounce rate в GA = 40%. Мы предполагаем, что при оптимизации сайта она изменится минимум на 20%.Средний трафик 4000 человек в день. Посчитайте сколько нам нужно дней держать эксперимент при alpha = 5% и beta = 20%"
      ],
      "metadata": {
        "id": "vbCFN395KhiX"
      }
    },
    {
      "cell_type": "code",
      "source": [
        "n = 4000 # среднее количество человек в день\n",
        "b_r_now = 0.4 # текущее значение bounce_rate\n",
        "b_r_new = 0.4*(1-0.2) # новое значение bounce_rate\n",
        "alpha = 0.05 # уровень значимости\n",
        "beta = 0.2 # вероятности ошибки"
      ],
      "metadata": {
        "id": "OmGOFcE-KtJ3"
      },
      "execution_count": 43,
      "outputs": []
    },
    {
      "cell_type": "code",
      "source": [
        "effect_size = proportion_effectsize(b_r_now, b_r_new) # размер эффекта\n",
        "print(round(effect_size, 3))"
      ],
      "metadata": {
        "colab": {
          "base_uri": "https://localhost:8080/"
        },
        "id": "lC_IeT2YYaqW",
        "outputId": "0d9bf888-ffa4-445d-fa0b-9224d28af598"
      },
      "execution_count": 44,
      "outputs": [
        {
          "output_type": "stream",
          "name": "stdout",
          "text": [
            "0.167\n"
          ]
        }
      ]
    },
    {
      "cell_type": "code",
      "source": [
        "day = zt_ind_solve_power(effect_size=effect_size, alpha=alpha, power=(1 - beta)) * 2 / n\n",
        "print(math.ceil(day))"
      ],
      "metadata": {
        "colab": {
          "base_uri": "https://localhost:8080/"
        },
        "id": "gv1xxXfhYs9k",
        "outputId": "4f012e60-1e4a-4263-f5a4-dafe4e114449"
      },
      "execution_count": 45,
      "outputs": [
        {
          "output_type": "stream",
          "name": "stdout",
          "text": [
            "1\n"
          ]
        }
      ]
    },
    {
      "cell_type": "markdown",
      "source": [
        "**Ответ:** Эксперимент необходимо держать 1 день при alpha = 5% и beta = 20% ."
      ],
      "metadata": {
        "id": "7pE3CrgPWuFl"
      }
    }
  ]
}